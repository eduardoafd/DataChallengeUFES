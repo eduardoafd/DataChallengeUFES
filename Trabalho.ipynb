{
 "cells": [
  {
   "cell_type": "markdown",
   "id": "38c6adf6-72cd-4672-8c12-cdbc5076fffb",
   "metadata": {},
   "source": [
    "# Data Challenge"
   ]
  },
  {
   "cell_type": "code",
   "execution_count": 2,
   "id": "d3676fb6-1497-4a99-a931-43ad56fbacdb",
   "metadata": {},
   "outputs": [],
   "source": [
    "import pandas as pd\n",
    "from glob import glob\n",
    "import matplotlib.pyplot as plt"
   ]
  },
  {
   "cell_type": "code",
   "execution_count": 3,
   "id": "832f6e21-eb41-4d7d-9649-fd9898ec2b6d",
   "metadata": {},
   "outputs": [],
   "source": [
    "dataFiles = sorted(glob('Training/Small/Sample**.csv'))"
   ]
  },
  {
   "cell_type": "code",
   "execution_count": 4,
   "id": "88351906-3b56-4978-a174-be60c9a28c5d",
   "metadata": {},
   "outputs": [],
   "source": [
    "dataFiles.extend(sorted(glob('Training/Large/Sample**.csv')))"
   ]
  },
  {
   "cell_type": "code",
   "execution_count": 6,
   "id": "dd4eb711-58dd-44f4-b340-1380a4f97fa3",
   "metadata": {},
   "outputs": [],
   "source": [
    "#Criando dataFrames para cada arquivo\n",
    "dataFrames = []\n",
    "\n",
    "particleSizeData = pd.read_csv('Training/Training Operation Profiles of Samples.csv', ';')\n",
    "for file in dataFiles:\n",
    "    df = pd.read_csv(file)\n",
    "    df[\"Pressure_Diferential(psi)\"] = df[\"Upstream_Pressure(psi)\"] - df[\"Downstream_Pressure(psi)\"] #Calculo da perda de Carga\n",
    "    df[\"sample\"] = int(file[-6:-4])\n",
    "    df.join(particleSizeData.set_index('sample'), on='sample')\n",
    "    df['threshold'] = [0 if value < 20 else 1 for value in df['Pressure_Diferential(psi)']] #Definindo limiar de perda de carga\n",
    "    dataFrames.append(df)\n",
    "    "
   ]
  },
  {
   "cell_type": "code",
   "execution_count": 9,
   "id": "6f12ff79-3205-49a6-a876-df098340a43b",
   "metadata": {},
   "outputs": [],
   "source": [
    "#Encontrando o primeiro valor com perda de carga maior que 20 psi\n",
    "limits = []\n",
    "for df in dataFrames:\n",
    "    for value,time in zip(df['threshold'],df['Times)']):\n",
    "        if (value == 1) :\n",
    "            limits.append(time)\n",
    "            break;"
   ]
  },
  {
   "cell_type": "code",
   "execution_count": 14,
   "id": "5d0e0dba-a264-4a56-8b9a-19a256502040",
   "metadata": {},
   "outputs": [],
   "source": [
    "#Criando coluna de vida util remanscente\n",
    "for df,limit in zip(dataFrames, limits):\n",
    "    df['Remaining Lifespan(s)'] = [(limit - instant) if (instant < limit) else 0 for instant in df['Time(s)']];\n",
    "    "
   ]
  },
  {
   "cell_type": "code",
   "execution_count": 12,
   "id": "dc425122-456d-45ae-a3ef-b4f6dcca183b",
   "metadata": {},
   "outputs": [],
   "source": [
    "#Unindo dataframes em um único\n",
    "dataFrame = pd.concat(dataFrames);\n",
    "dataFrame = dataFrame.reset_index();"
   ]
  },
  {
   "cell_type": "code",
   "execution_count": 6,
   "id": "1719d8fc-0ab6-415b-bef6-3f6c45d820ed",
   "metadata": {},
   "outputs": [],
   "source": [
    "# A partir daqui vem o proposto pelo Pires\n",
    "\n",
    "data = pd.concat((pd.read_csv(file).assign(sample = int(file[-6:-4]) for file in dataFiles), ignore_index = True)"
   ]
  },
  {
   "cell_type": "code",
   "execution_count": 7,
   "id": "8d31db28-1ee0-458a-9203-a0192b6dece5",
   "metadata": {},
   "outputs": [],
   "source": [
    "particleSizeData = pd.read_csv('Training/Training Operation Profiles of Samples.csv', ';')"
   ]
  },
  {
   "cell_type": "code",
   "execution_count": 8,
   "id": "86ca6bfc-7438-41a4-a056-ce93eb9ce48b",
   "metadata": {},
   "outputs": [
    {
     "data": {
      "text/html": [
       "<div>\n",
       "<style scoped>\n",
       "    .dataframe tbody tr th:only-of-type {\n",
       "        vertical-align: middle;\n",
       "    }\n",
       "\n",
       "    .dataframe tbody tr th {\n",
       "        vertical-align: top;\n",
       "    }\n",
       "\n",
       "    .dataframe thead th {\n",
       "        text-align: right;\n",
       "    }\n",
       "</style>\n",
       "<table border=\"1\" class=\"dataframe\">\n",
       "  <thead>\n",
       "    <tr style=\"text-align: right;\">\n",
       "      <th></th>\n",
       "      <th>Time(s)</th>\n",
       "      <th>Flow_Rate(ml/m)</th>\n",
       "      <th>Upstream_Pressure(psi)</th>\n",
       "      <th>Downstream_Pressure(psi)</th>\n",
       "      <th>sample</th>\n",
       "      <th>Particle Size (micron)</th>\n",
       "      <th>Solid Ratio(%)</th>\n",
       "    </tr>\n",
       "  </thead>\n",
       "  <tbody>\n",
       "    <tr>\n",
       "      <th>0</th>\n",
       "      <td>0.0</td>\n",
       "      <td>9.935067</td>\n",
       "      <td>-0.30000</td>\n",
       "      <td>-1.10625</td>\n",
       "      <td>1</td>\n",
       "      <td>45-53</td>\n",
       "      <td>0,4</td>\n",
       "    </tr>\n",
       "    <tr>\n",
       "      <th>1</th>\n",
       "      <td>0.1</td>\n",
       "      <td>4.110983</td>\n",
       "      <td>0.61250</td>\n",
       "      <td>-0.34375</td>\n",
       "      <td>1</td>\n",
       "      <td>45-53</td>\n",
       "      <td>0,4</td>\n",
       "    </tr>\n",
       "    <tr>\n",
       "      <th>2</th>\n",
       "      <td>0.2</td>\n",
       "      <td>5.098116</td>\n",
       "      <td>1.05625</td>\n",
       "      <td>-0.08125</td>\n",
       "      <td>1</td>\n",
       "      <td>45-53</td>\n",
       "      <td>0,4</td>\n",
       "    </tr>\n",
       "    <tr>\n",
       "      <th>3</th>\n",
       "      <td>0.3</td>\n",
       "      <td>10.231207</td>\n",
       "      <td>1.20000</td>\n",
       "      <td>0.84375</td>\n",
       "      <td>1</td>\n",
       "      <td>45-53</td>\n",
       "      <td>0,4</td>\n",
       "    </tr>\n",
       "    <tr>\n",
       "      <th>4</th>\n",
       "      <td>0.4</td>\n",
       "      <td>8.355655</td>\n",
       "      <td>0.93125</td>\n",
       "      <td>0.79375</td>\n",
       "      <td>1</td>\n",
       "      <td>45-53</td>\n",
       "      <td>0,4</td>\n",
       "    </tr>\n",
       "    <tr>\n",
       "      <th>...</th>\n",
       "      <td>...</td>\n",
       "      <td>...</td>\n",
       "      <td>...</td>\n",
       "      <td>...</td>\n",
       "      <td>...</td>\n",
       "      <td>...</td>\n",
       "      <td>...</td>\n",
       "    </tr>\n",
       "    <tr>\n",
       "      <th>62819</th>\n",
       "      <td>218.5</td>\n",
       "      <td>208.447512</td>\n",
       "      <td>16.95000</td>\n",
       "      <td>0.34375</td>\n",
       "      <td>44</td>\n",
       "      <td>63-75</td>\n",
       "      <td>0,45</td>\n",
       "    </tr>\n",
       "    <tr>\n",
       "      <th>62820</th>\n",
       "      <td>218.6</td>\n",
       "      <td>210.717918</td>\n",
       "      <td>17.22500</td>\n",
       "      <td>0.73750</td>\n",
       "      <td>44</td>\n",
       "      <td>63-75</td>\n",
       "      <td>0,45</td>\n",
       "    </tr>\n",
       "    <tr>\n",
       "      <th>62821</th>\n",
       "      <td>218.7</td>\n",
       "      <td>208.546225</td>\n",
       "      <td>17.39375</td>\n",
       "      <td>0.66250</td>\n",
       "      <td>44</td>\n",
       "      <td>63-75</td>\n",
       "      <td>0,45</td>\n",
       "    </tr>\n",
       "    <tr>\n",
       "      <th>62822</th>\n",
       "      <td>218.8</td>\n",
       "      <td>204.795120</td>\n",
       "      <td>17.17500</td>\n",
       "      <td>0.31875</td>\n",
       "      <td>44</td>\n",
       "      <td>63-75</td>\n",
       "      <td>0,45</td>\n",
       "    </tr>\n",
       "    <tr>\n",
       "      <th>62823</th>\n",
       "      <td>218.9</td>\n",
       "      <td>199.662029</td>\n",
       "      <td>16.91875</td>\n",
       "      <td>-0.26875</td>\n",
       "      <td>44</td>\n",
       "      <td>63-75</td>\n",
       "      <td>0,45</td>\n",
       "    </tr>\n",
       "  </tbody>\n",
       "</table>\n",
       "<p>62824 rows × 7 columns</p>\n",
       "</div>"
      ],
      "text/plain": [
       "       Time(s)  Flow_Rate(ml/m)  Upstream_Pressure(psi)  \\\n",
       "0          0.0         9.935067                -0.30000   \n",
       "1          0.1         4.110983                 0.61250   \n",
       "2          0.2         5.098116                 1.05625   \n",
       "3          0.3        10.231207                 1.20000   \n",
       "4          0.4         8.355655                 0.93125   \n",
       "...        ...              ...                     ...   \n",
       "62819    218.5       208.447512                16.95000   \n",
       "62820    218.6       210.717918                17.22500   \n",
       "62821    218.7       208.546225                17.39375   \n",
       "62822    218.8       204.795120                17.17500   \n",
       "62823    218.9       199.662029                16.91875   \n",
       "\n",
       "       Downstream_Pressure(psi)  sample Particle Size (micron) Solid Ratio(%)  \n",
       "0                      -1.10625       1                  45-53            0,4  \n",
       "1                      -0.34375       1                  45-53            0,4  \n",
       "2                      -0.08125       1                  45-53            0,4  \n",
       "3                       0.84375       1                  45-53            0,4  \n",
       "4                       0.79375       1                  45-53            0,4  \n",
       "...                         ...     ...                    ...            ...  \n",
       "62819                   0.34375      44                  63-75           0,45  \n",
       "62820                   0.73750      44                  63-75           0,45  \n",
       "62821                   0.66250      44                  63-75           0,45  \n",
       "62822                   0.31875      44                  63-75           0,45  \n",
       "62823                  -0.26875      44                  63-75           0,45  \n",
       "\n",
       "[62824 rows x 7 columns]"
      ]
     },
     "execution_count": 8,
     "metadata": {},
     "output_type": "execute_result"
    }
   ],
   "source": [
    "data.join(particleSizeData.set_index('sample'), on='sample')"
   ]
  },
  {
   "cell_type": "code",
   "execution_count": 9,
   "id": "09a5d254-f965-464f-b59f-acc16aa3edf4",
   "metadata": {},
   "outputs": [],
   "source": [
    "data[\"Pressure_Diferential(psi)\"] = data[\"Upstream_Pressure(psi)\"] - data[\"Downstream_Pressure(psi)\"]"
   ]
  },
  {
   "cell_type": "code",
   "execution_count": null,
   "id": "83357683-6c8e-4b5c-a83e-cdef82e81c67",
   "metadata": {},
   "outputs": [],
   "source": []
  }
 ],
 "metadata": {
  "kernelspec": {
   "display_name": "Python 3",
   "language": "python",
   "name": "python3"
  },
  "language_info": {
   "codemirror_mode": {
    "name": "ipython",
    "version": 3
   },
   "file_extension": ".py",
   "mimetype": "text/x-python",
   "name": "python",
   "nbconvert_exporter": "python",
   "pygments_lexer": "ipython3",
   "version": "3.8.8"
  }
 },
 "nbformat": 4,
 "nbformat_minor": 5
}
