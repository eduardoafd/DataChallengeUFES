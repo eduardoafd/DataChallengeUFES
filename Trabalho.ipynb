{
 "cells": [
  {
   "cell_type": "markdown",
   "id": "38c6adf6-72cd-4672-8c12-cdbc5076fffb",
   "metadata": {},
   "source": [
    "# Data Challenge"
   ]
  },
  {
   "cell_type": "code",
   "execution_count": 1,
   "id": "d3676fb6-1497-4a99-a931-43ad56fbacdb",
   "metadata": {},
   "outputs": [],
   "source": [
    "import pandas as pd\n",
    "from glob import glob\n",
    "import matplotlib.pyplot as plt"
   ]
  },
  {
   "cell_type": "code",
   "execution_count": 2,
   "id": "832f6e21-eb41-4d7d-9649-fd9898ec2b6d",
   "metadata": {},
   "outputs": [],
   "source": [
    "dataFiles = sorted(glob('Training/Small/Sample**.csv'))\n",
    "dataFiles.extend(sorted(glob('Validation/Small/Sample**.csv')))\n",
    "dataFiles.extend(sorted(glob('Training/Large/Sample**.csv')))\n",
    "dataFiles.extend(sorted(glob('Validation/Large/Sample**.csv')))"
   ]
  },
  {
   "cell_type": "code",
   "execution_count": 3,
   "id": "dd4eb711-58dd-44f4-b340-1380a4f97fa3",
   "metadata": {},
   "outputs": [],
   "source": [
    "#Criando dataFrames para cada arquivo\n",
    "dataFrames = []\n",
    "\n",
    "particleSizeData = pd.read_csv('Training/Training Operation Profiles of Samples.csv', ';')\n",
    "particleSizeData.append(pd.read_csv('Validation/Validation Operation Profiles of Samples.csv', ';'))\n",
    "for file in dataFiles:\n",
    "    df = pd.read_csv(file)\n",
    "    df[\"Pressure_Diferential(psi)\"] = df[\"Upstream_Pressure(psi)\"] - df[\"Downstream_Pressure(psi)\"] #Calculo da perda de Carga\n",
    "    df[\"sample\"] = int(file[-6:-4])\n",
    "    df.join(particleSizeData.set_index('sample'), on='sample')\n",
    "    first_occurence = df[df['Pressure_Diferential(psi)']>20].index[0]\n",
    "    df = df.iloc[:first_occurence]\n",
    "    dataFrames.append(df)"
   ]
  },
  {
   "cell_type": "code",
   "execution_count": 4,
   "id": "5d0e0dba-a264-4a56-8b9a-19a256502040",
   "metadata": {},
   "outputs": [],
   "source": [
    "#Criando coluna de vida util remanscente\n",
    "for df in dataFrames:\n",
    "    lastTime = df['Time(s)'].iloc[[-1]]\n",
    "    df['Remaining_Lifespan(s)'] = [(lastTime.values[0] - instant) for instant in df['Time(s)']];"
   ]
  },
  {
   "cell_type": "code",
   "execution_count": 5,
   "id": "dc425122-456d-45ae-a3ef-b4f6dcca183b",
   "metadata": {},
   "outputs": [],
   "source": [
    "#Unindo dataframes em um único\n",
    "dataFrame = pd.concat(dataFrames).reset_index();"
   ]
  },
  {
   "cell_type": "code",
   "execution_count": 6,
   "id": "1b2fea7f-d042-4f11-a022-67599b3c28d4",
   "metadata": {},
   "outputs": [],
   "source": [
    "#Definindo dataFrame de teste:\n",
    "import numpy\n",
    "randnums = [*numpy.random.randint(1,16,3), *numpy.random.randint(33,48,3)]\n",
    "dataFrames_test = []\n",
    "for sample in randnums:\n",
    "    dataFrames_test.append(dataFrame.loc[dataFrame['sample'] == sample])\n",
    "    \n",
    "dataFrame_test = pd.concat(dataFrames_test).reset_index();\n",
    "df_test = dataFrame_test.drop(columns=['sample', 'index', 'level_0'])\n",
    "y_test = df_test['Remaining_Lifespan(s)']\n",
    "df_test = df_test.loc[:, df_test.columns != 'Remaining_Lifespan(s)']"
   ]
  },
  {
   "cell_type": "code",
   "execution_count": 7,
   "id": "83357683-6c8e-4b5c-a83e-cdef82e81c67",
   "metadata": {},
   "outputs": [],
   "source": [
    "#Aplicando Modelo Random Forest"
   ]
  },
  {
   "cell_type": "code",
   "execution_count": 8,
   "id": "0dab3e91-278f-4b3e-9b31-8cf1b657b05b",
   "metadata": {},
   "outputs": [],
   "source": [
    "#Separando variáveis dependentes e independentes\n",
    "#Variável dependente:\n",
    "df = dataFrame.drop(columns=['sample', 'index'])\n",
    "y_train = df['Remaining_Lifespan(s)']\n",
    "X_train = df.loc[:, df.columns != 'Remaining_Lifespan(s)']"
   ]
  },
  {
   "cell_type": "code",
   "execution_count": 9,
   "id": "93661247-d77f-4714-a0e3-286680b953dc",
   "metadata": {},
   "outputs": [
    {
     "data": {
      "text/plain": [
       "RandomForestRegressor(n_estimators=10, random_state=0)"
      ]
     },
     "execution_count": 9,
     "metadata": {},
     "output_type": "execute_result"
    }
   ],
   "source": [
    "#Importando Random Forest Regressor\n",
    "from sklearn.ensemble import RandomForestRegressor\n",
    "\n",
    "#Criando obj Random Forest Regressor\n",
    "RFReg = RandomForestRegressor(n_estimators = 10, random_state = 0)\n",
    "\n",
    "#Fit the random forest regressor with training data represented by X_train and y_train\n",
    "RFReg.fit(X_train, y_train)"
   ]
  },
  {
   "cell_type": "code",
   "execution_count": 10,
   "id": "50a75b4e-0540-425e-b6ed-0aad1c49609d",
   "metadata": {},
   "outputs": [],
   "source": [
    "#Teste\n",
    "#Criando dataFrames para cada arquivo\n",
    "y_predict_rfr = RFReg.predict(df_test)"
   ]
  },
  {
   "cell_type": "code",
   "execution_count": 11,
   "id": "72efc092-5234-4a96-bf93-94a26cd1575a",
   "metadata": {},
   "outputs": [],
   "source": [
    "from sklearn import metrics\n",
    "r_square = metrics.r2_score(y_test,y_predict_rfr)"
   ]
  },
  {
   "cell_type": "code",
   "execution_count": 12,
   "id": "5cf2d71a-2e6e-453f-aa89-f9faf3c47dfd",
   "metadata": {},
   "outputs": [
    {
     "data": {
      "text/plain": [
       "0.9814071313409877"
      ]
     },
     "execution_count": 12,
     "metadata": {},
     "output_type": "execute_result"
    }
   ],
   "source": [
    "r_square"
   ]
  },
  {
   "cell_type": "code",
   "execution_count": 14,
   "id": "c71e3432-a71d-42f6-bf21-140c38c1d170",
   "metadata": {},
   "outputs": [
    {
     "data": {
      "text/plain": [
       "array([257.38, 240.91, 265.37, ...,   0.  ,   0.  ,   0.  ])"
      ]
     },
     "execution_count": 14,
     "metadata": {},
     "output_type": "execute_result"
    }
   ],
   "source": [
    "y_predict_rfr"
   ]
  },
  {
   "cell_type": "code",
   "execution_count": null,
   "id": "2242feec-89f9-459a-88e8-492fbc7956e8",
   "metadata": {},
   "outputs": [],
   "source": []
  }
 ],
 "metadata": {
  "kernelspec": {
   "display_name": "Python 3",
   "language": "python",
   "name": "python3"
  },
  "language_info": {
   "codemirror_mode": {
    "name": "ipython",
    "version": 3
   },
   "file_extension": ".py",
   "mimetype": "text/x-python",
   "name": "python",
   "nbconvert_exporter": "python",
   "pygments_lexer": "ipython3",
   "version": "3.8.8"
  }
 },
 "nbformat": 4,
 "nbformat_minor": 5
}
